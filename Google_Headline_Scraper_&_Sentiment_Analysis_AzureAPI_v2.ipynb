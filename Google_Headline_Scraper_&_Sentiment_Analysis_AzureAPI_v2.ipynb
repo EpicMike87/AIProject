{
  "cells": [
    {
      "cell_type": "markdown",
      "metadata": {
        "id": "view-in-github",
        "colab_type": "text"
      },
      "source": [
        "<a href=\"https://colab.research.google.com/github/EpicMike87/AIProject/blob/main/Google_Headline_Scraper_%26_Sentiment_Analysis_AzureAPI_v2.ipynb\" target=\"_parent\"><img src=\"https://colab.research.google.com/assets/colab-badge.svg\" alt=\"Open In Colab\"/></a>"
      ]
    },
    {
      "cell_type": "code",
      "execution_count": 1,
      "metadata": {
        "colab": {
          "base_uri": "https://localhost:8080/"
        },
        "id": "HCNRpr-Cn-zE",
        "outputId": "21a0a50c-3b33-41bf-f825-33cfcb6f9806"
      },
      "outputs": [
        {
          "output_type": "stream",
          "name": "stdout",
          "text": [
            "Mounted at /content/drive\n",
            "AI directory already exists in Google Drive\n",
            "/content/drive/My Drive/AI\n",
            "google_news_headlines_by_date.csv  sentiment_analysis_results_2.csv\n"
          ]
        }
      ],
      "source": [
        "# Code to mount google drive and change working directory\n",
        "from google.colab import drive\n",
        "import os\n",
        "\n",
        "drive.mount('/content/drive')\n",
        "ai_directory_path = '/content/drive/My Drive/AI'\n",
        "\n",
        "if not os.path.exists(ai_directory_path):\n",
        "    os.makedirs(ai_directory_path)\n",
        "    print(f\"Created AI directory in Google Drive\")\n",
        "else:\n",
        "    print(f\"AI directory already exists in Google Drive\")\n",
        "\n",
        "%cd '/content/drive/My Drive/AI'\n",
        "%pwd\n",
        "%ls"
      ]
    },
    {
      "cell_type": "code",
      "source": [
        "# Checks present working directory and presence of csv files\n",
        "%pwd\n",
        "%ls"
      ],
      "metadata": {
        "colab": {
          "base_uri": "https://localhost:8080/"
        },
        "id": "RrN-Sx_EnQx9",
        "outputId": "9d4fdfc2-f40f-4e0b-8c23-f4e0a6cf6733"
      },
      "execution_count": 2,
      "outputs": [
        {
          "output_type": "stream",
          "name": "stdout",
          "text": [
            "google_news_headlines_by_date.csv  sentiment_analysis_results_2.csv\n"
          ]
        }
      ]
    },
    {
      "cell_type": "code",
      "source": [
        "# Run these on first use\n",
        "\n",
        "!pip install feedparser\n",
        "!pip install azure-ai-textanalytics\n",
        "!pip install flair\n",
        "!pip install azure-ai-textanalytics"
      ],
      "metadata": {
        "id": "uTICJVv1WXUf"
      },
      "execution_count": null,
      "outputs": []
    },
    {
      "cell_type": "code",
      "execution_count": null,
      "metadata": {
        "id": "9MiF01EFLx_B"
      },
      "outputs": [],
      "source": [
        "### Google News Headline Scraper"
      ]
    },
    {
      "cell_type": "code",
      "execution_count": 5,
      "metadata": {
        "colab": {
          "base_uri": "https://localhost:8080/"
        },
        "id": "mAew0dRLLgGj",
        "outputId": "170e33ef-3d2a-44df-9d01-f08578f7dbb5"
      },
      "outputs": [
        {
          "output_type": "stream",
          "name": "stdout",
          "text": [
            "                 date                                           headline\n",
            "0 2024-04-06 08:20:38  S&P 500 Snapshot: Index Begins Q2 With Weekly ...\n",
            "1 2024-04-04 16:02:00  The S&P 500’s Rally Is Broadening Out Beyond T...\n",
            "2 2024-04-06 09:40:00  This ETF is beating the S&P 500 — and it's com...\n",
            "3 2024-04-06 20:07:00  Is It Smart to Buy Stocks With the S&P 500 at ...\n",
            "4 2024-04-04 20:59:42  S&P 500 Gains and Losses Today: Index Slips Am...\n",
            "Filtered and saved articles to google_news_headlines_by_date.csv.\n"
          ]
        }
      ],
      "source": [
        "import pandas as pd\n",
        "from datetime import datetime, timedelta\n",
        "import feedparser\n",
        "\n",
        "# Define your start and end dates for filtering\n",
        "start_date = datetime(2024, 1, 1)\n",
        "end_date = datetime(2024, 4, 8)\n",
        "\n",
        "rss_url = \"https://news.google.com/rss/search?q=%22S%26P+500%22+OR+%22SPX%22+OR+%22$SPY%22&hl=en-US&gl=US&ceid=US:en\"\n",
        "feed = feedparser.parse(rss_url)\n",
        "\n",
        "articles = []\n",
        "\n",
        "for entry in feed.entries:\n",
        "    published_date = datetime(*entry.published_parsed[:6])\n",
        "\n",
        "    # Filter articles by the specified start and end dates\n",
        "    if start_date <= published_date <= end_date:\n",
        "        headline = entry.title\n",
        "        articles.append({'date': published_date, 'headline': headline})\n",
        "\n",
        "# Create a DataFrame from the list of articles\n",
        "df_articles = pd.DataFrame(articles)\n",
        "\n",
        "print(df_articles.head())\n",
        "\n",
        "output_file_name = 'google_news_headlines_by_date.csv'\n",
        "df_articles.to_csv(output_file_name, index=False)\n",
        "\n",
        "print(f\"Filtered and saved articles to {output_file_name}.\")\n"
      ]
    },
    {
      "cell_type": "code",
      "execution_count": 7,
      "metadata": {
        "id": "2The-sWbLuPc",
        "colab": {
          "base_uri": "https://localhost:8080/"
        },
        "outputId": "97ba0604-91eb-4935-baee-b0686d2bb4ec"
      },
      "outputs": [
        {
          "output_type": "stream",
          "name": "stdout",
          "text": [
            "Date: 2024-04-06 08:20:38 - Headline: S&P 500 Snapshot: Index Begins Q2 With Weekly Loss - Advisor Perspectives\n",
            "Sentiment: NEUTRAL, Scores: {'positive': 0.01, 'neutral': 0.86, 'negative': 0.13}\n",
            "-------\n",
            "Date: 2024-04-04 16:02:00 - Headline: The S&P 500’s Rally Is Broadening Out Beyond Tech Stocks - Barron's\n",
            "Sentiment: NEUTRAL, Scores: {'positive': 0.05, 'neutral': 0.94, 'negative': 0.01}\n",
            "-------\n",
            "Date: 2024-04-06 09:40:00 - Headline: This ETF is beating the S&P 500 — and it's completely different from the index - Yahoo Finance\n",
            "Sentiment: NEUTRAL, Scores: {'positive': 0.03, 'neutral': 0.8, 'negative': 0.17}\n",
            "-------\n",
            "Date: 2024-04-06 20:07:00 - Headline: Is It Smart to Buy Stocks With the S&P 500 at an All-Time High? History Offers a Clear Answer - Yahoo Finance\n",
            "Sentiment: NEUTRAL, Scores: {'positive': 0.14, 'neutral': 0.83, 'negative': 0.03}\n",
            "-------\n",
            "Date: 2024-04-04 20:59:42 - Headline: S&P 500 Gains and Losses Today: Index Slips Amid Rate Cut Uncertainty - Investopedia\n",
            "Sentiment: NEUTRAL, Scores: {'positive': 0.02, 'neutral': 0.81, 'negative': 0.18}\n",
            "-------\n",
            "Date: 2024-04-07 18:05:00 - Headline: What Bull Market? Wall Street Says the S&P 500 Will Fall 2% Over the Rest of 2024 - Yahoo Finance\n",
            "Sentiment: NEUTRAL, Scores: {'positive': 0.03, 'neutral': 0.95, 'negative': 0.02}\n",
            "-------\n",
            "Date: 2024-04-07 06:07:30 - Headline: S&P 500, Nasdaq, Dow Jones Forecast for the Week Ahead - FOREX.com US\n",
            "Sentiment: NEUTRAL, Scores: {'positive': 0.01, 'neutral': 0.98, 'negative': 0.01}\n",
            "-------\n",
            "Date: 2024-04-05 18:16:46 - Headline: Second-Highest Number of S&P 500 Companies Issuing Negative EPS Guidance Since Q2 2019 - FactSet Insight\n",
            "Sentiment: NEUTRAL, Scores: {'positive': 0.01, 'neutral': 0.86, 'negative': 0.13}\n",
            "-------\n",
            "Date: 2024-04-07 08:45:00 - Headline: The S&P 500 Just Did Something It Has Only Done 11 Times Before. The Stock Market Usually Does This Next. - The Motley Fool\n",
            "Sentiment: NEUTRAL, Scores: {'positive': 0.02, 'neutral': 0.89, 'negative': 0.09}\n",
            "-------\n",
            "Date: 2024-04-07 18:02:18 - Headline: The 3 Most Undervalued S&P 500 Stocks to Buy in April 2024 - InvestorPlace\n",
            "Sentiment: NEUTRAL, Scores: {'positive': 0.03, 'neutral': 0.89, 'negative': 0.08}\n",
            "-------\n",
            "Date: 2024-04-04 18:08:00 - Headline: This ETF is beating the S&P 500 — and it’s completely different from the index - MarketWatch\n",
            "Sentiment: NEUTRAL, Scores: {'positive': 0.13, 'neutral': 0.73, 'negative': 0.13}\n",
            "-------\n",
            "Date: 2024-04-06 13:01:54 - Headline: Bull market breaks its stride with the S&P 500's first 2% dip in a long while - CNBC\n",
            "Sentiment: NEUTRAL, Scores: {'positive': 0.08, 'neutral': 0.91, 'negative': 0.02}\n",
            "-------\n",
            "Date: 2024-04-05 21:51:21 - Headline: The S&P 500 will soar another 26% by the end of next year as the Fed cuts rates more than expected, research firm says - Yahoo Finance\n",
            "Sentiment: NEUTRAL, Scores: {'positive': 0.05, 'neutral': 0.93, 'negative': 0.02}\n",
            "-------\n",
            "Date: 2024-04-05 07:00:00 - Headline: The Best Index Funds - Morningstar\n",
            "Sentiment: NEUTRAL, Scores: {'positive': 0.2, 'neutral': 0.79, 'negative': 0.01}\n",
            "-------\n",
            "Date: 2024-04-04 23:45:00 - Headline: Stock Market News From April 4, 2024: Dow Falls 500 Points; S&P 500 and Nasdaq Drop; Oil Rises; Treasury Yields ... - Barron's\n",
            "Sentiment: NEUTRAL, Scores: {'positive': 0.04, 'neutral': 0.95, 'negative': 0.01}\n",
            "-------\n",
            "Date: 2024-04-04 19:45:00 - Headline: S&P 500 sectors all fall Thursday afternoon - MarketWatch\n",
            "Sentiment: NEUTRAL, Scores: {'positive': 0.01, 'neutral': 0.98, 'negative': 0.01}\n",
            "-------\n",
            "Date: 2024-04-04 22:08:00 - Headline: Stock Market News, April 4, 2024: Indexes Drop Broadly Ahead of Jobs Report - The Wall Street Journal\n",
            "Sentiment: NEUTRAL, Scores: {'positive': 0.02, 'neutral': 0.94, 'negative': 0.03}\n",
            "-------\n",
            "Date: 2024-04-05 14:51:43 - Headline: A market hedge if the S&P 500 decides to test the will of the bulls here - CNBC\n",
            "Sentiment: NEUTRAL, Scores: {'positive': 0.07, 'neutral': 0.83, 'negative': 0.1}\n",
            "-------\n",
            "Date: 2024-04-06 16:00:00 - Headline: Fearless Stock Bulls Start Hedging as Fed Policy Pivot Stalls - Bloomberg\n",
            "Sentiment: NEUTRAL, Scores: {'positive': 0.15, 'neutral': 0.84, 'negative': 0.01}\n",
            "-------\n",
            "Date: 2024-03-28 07:00:00 - Headline: The S&P 500 just turned in its best first quarter since 2019 - CNN\n",
            "Sentiment: POSITIVE, Scores: {'positive': 0.39, 'neutral': 0.59, 'negative': 0.02}\n",
            "-------\n",
            "Date: 2024-04-05 20:54:57 - Headline: S&P 500 set for a losing week, but energy sector 'looks good' - Yahoo Finance\n",
            "Sentiment: NEGATIVE, Scores: {'positive': 0.2, 'neutral': 0.45, 'negative': 0.35}\n",
            "-------\n",
            "Date: 2024-04-05 14:09:00 - Headline: Jobs Report: Strong Hiring Dims Fed Rate-Cut Hopes; S&P 500 Rises - Investor's Business Daily\n",
            "Sentiment: NEUTRAL, Scores: {'positive': 0.13, 'neutral': 0.85, 'negative': 0.02}\n",
            "-------\n"
          ]
        }
      ],
      "source": [
        "from azure.ai.textanalytics import TextAnalyticsClient\n",
        "from azure.core.credentials import AzureKeyCredential\n",
        "import pandas as pd\n",
        "\n",
        "# Set up the Azure Text Analytics client\n",
        "def authenticate_client():\n",
        "    endpoint = \"https://sentimentanalysishp.cognitiveservices.azure.com/\"  # Replace with your endpoint\n",
        "    key = \"dedffb82877445dd93d95092e65b54bc\"  # Replace with your key\n",
        "    return TextAnalyticsClient(endpoint=endpoint, credential=AzureKeyCredential(key))\n",
        "\n",
        "# Analyze sentiment of documents (headlines)\n",
        "def analyze_headline_sentiment(headlines, dates):\n",
        "    client = authenticate_client()\n",
        "    sentiment_responses = []\n",
        "\n",
        "    for headline, date in zip(headlines, dates):\n",
        "        try:\n",
        "            response = client.analyze_sentiment(documents=[headline], language=\"en\")\n",
        "\n",
        "            if response[0].is_error:\n",
        "                print(f\"Error analyzing sentiment for '{headline}': {response[0].error}\")\n",
        "            else:\n",
        "                # Adjust threshold for positive and negative sentiment. This overcomes the default parameters and makes the model more sensitive to positive and negative leanings.\n",
        "                sentiment_label = \"POSITIVE\" if response[0].confidence_scores[\"positive\"] > 0.3 else \"NEGATIVE\" if response[0].confidence_scores[\"negative\"] > 0.3 else \"NEUTRAL\"\n",
        "\n",
        "                sentiment_response = {\n",
        "                    'date': date,\n",
        "                    'headline': headline,\n",
        "                    'sentiment': sentiment_label,\n",
        "                    'confidence_scores': response[0].confidence_scores\n",
        "                }\n",
        "                sentiment_responses.append(sentiment_response)\n",
        "        except Exception as e:\n",
        "            print(f\"Error analyzing sentiment for '{headline}': {e}\")\n",
        "\n",
        "    return sentiment_responses\n",
        "\n",
        "# Specify the CSV file path containing headlines\n",
        "csv_path = '/content/drive/My Drive/AI/google_news_headlines_by_date.csv'\n",
        "\n",
        "# Read the CSV file into a DataFrame\n",
        "df = pd.read_csv(csv_path)\n",
        "\n",
        "# Extract all headlines and dates from the DataFrame\n",
        "headlines = df['headline'].dropna().tolist()\n",
        "dates = df['date'].dropna().tolist()\n",
        "\n",
        "# Analyze sentiment for all headlines\n",
        "sentiment_responses = analyze_headline_sentiment(headlines, dates)\n",
        "\n",
        "# Print sentiment analysis results for each headline\n",
        "for response in sentiment_responses:\n",
        "    print(f\"Date: {response['date']} - Headline: {response['headline']}\")\n",
        "    print(f\"Sentiment: {response['sentiment']}, Scores: {response['confidence_scores']}\")\n",
        "    print(\"-------\")\n"
      ]
    }
  ],
  "metadata": {
    "colab": {
      "provenance": [],
      "include_colab_link": true
    },
    "kernelspec": {
      "display_name": "Python 3",
      "name": "python3"
    },
    "language_info": {
      "name": "python",
      "version": "3.9.6"
    }
  },
  "nbformat": 4,
  "nbformat_minor": 0
}